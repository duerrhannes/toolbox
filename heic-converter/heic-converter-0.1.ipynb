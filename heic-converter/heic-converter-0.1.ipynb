{
 "cells": [
  {
   "cell_type": "code",
   "execution_count": 1,
   "metadata": {},
   "outputs": [],
   "source": [
    "import time\n",
    "# Startzeitpunkt erfassen\n",
    "start_time = time.time()\n",
    "import tkinter as tk\n",
    "from tkinter import filedialog\n",
    "from tkinter import messagebox\n",
    "import sys\n",
    "import os\n",
    "from PIL import Image\n",
    "from pillow_heif import HeifImagePlugin"
   ]
  },
  {
   "cell_type": "code",
   "execution_count": 2,
   "metadata": {},
   "outputs": [],
   "source": [
    "# Dialogfenster erzeugen\n",
    "root = tk.Tk()\n",
    "root.withdraw()\n",
    "root.attributes(\"-topmost\", True)\n",
    "root.lift()\n",
    "\n",
    "# Verzeichnis mit den Input-Bildern festlegen\n",
    "input_dir = filedialog.askdirectory(title = \"Verzeichnis wählen\", initialdir= \"urspr. Verzeichnis\", mustexist = True)"
   ]
  },
  {
   "cell_type": "code",
   "execution_count": 3,
   "metadata": {},
   "outputs": [],
   "source": [
    "# Funktion zum Konvertieren einer einzelnen HEIC-Datei\n",
    "def convert_heic(file, dir):\n",
    "    heif_file = Image.open(file)\n",
    "    output_file = os.path.join(dir, os.path.splitext(os.path.basename(file))[0] + \".jpeg\")\n",
    "    heif_file.save(output_file, \"jpeg\", quality=97)\n",
    "    heif_file.close()"
   ]
  },
  {
   "cell_type": "code",
   "execution_count": 4,
   "metadata": {},
   "outputs": [],
   "source": [
    "def batch_conversion(input_path, output_path):\n",
    "    # Durchsuchen des Verzeichnisses nach Bilddateien im Format .heic\n",
    "    for file in os.listdir(input_path):\n",
    "        if file.lower().endswith(\".heic\"):\n",
    "            file_path = os.path.join(input_path, file)\n",
    "            convert_heic(file_path, output_path)"
   ]
  },
  {
   "cell_type": "code",
   "execution_count": 5,
   "metadata": {},
   "outputs": [],
   "source": [
    "# Überprüfe, ob input_dir leer ist\n",
    "if input_dir == \"\":  \n",
    "    # Zeige eine Fehlermeldung in einem Dialogfenster an\n",
    "    messagebox.showerror(\"Fehler\", \"Kein Verzeichnis ausgewählt.\")\n",
    "    # Beende die GUI-Schleife\n",
    "    root.destroy()\n",
    "    # Beende das Notebook ohne den Kernel abzustürzen\n",
    "    sys.exit(0)\n",
    "else:\n",
    "    # Ordner für die umgewandelten Fotos anlegen\n",
    "    # Sofern der Ordner existiert, wird ein Ordner mit hochzählendem Suffix erstellt (inkl. Prüfung, ob dieser bereits existiert usw.)\n",
    "    output_files = \"/Output files\"\n",
    "    suffix = 1\n",
    "    while os.path.exists(input_dir+output_files):\n",
    "        output_files = f\"/Output files ({suffix})\"\n",
    "        suffix += 1\n",
    "    output_dir = input_dir+output_files\n",
    "    os.makedirs(output_dir)\n",
    "\n",
    "    # Dateien aus dem Input-Verzeichnis umwandeln\n",
    "    batch_conversion(input_dir, output_dir)"
   ]
  },
  {
   "cell_type": "code",
   "execution_count": 6,
   "metadata": {},
   "outputs": [],
   "source": [
    "def get_file_size_of_type(directory, file_extension):\n",
    "    total_size = 0\n",
    "    for root, _, files in os.walk(directory):\n",
    "        for file in files:\n",
    "            if file.endswith(file_extension):\n",
    "                file_path = os.path.join(root, file)\n",
    "                total_size += os.path.getsize(file_path)\n",
    "    return total_size"
   ]
  },
  {
   "cell_type": "code",
   "execution_count": 7,
   "metadata": {},
   "outputs": [],
   "source": [
    "jpeg_count = len([file for file in os.listdir(output_dir) if file.endswith((\".jpeg\", \".jpg\"))])\n",
    "heic_count = len([file for file in os.listdir(input_dir) if file.endswith((\".heic\", \".HEIC\"))])\n",
    "jpeg_size = get_file_size_of_type(output_dir, \".jpeg\")\n",
    "heic_size = get_file_size_of_type(input_dir, \".heic\")"
   ]
  },
  {
   "cell_type": "code",
   "execution_count": 8,
   "metadata": {},
   "outputs": [],
   "source": [
    "running_time = time.time() - start_time"
   ]
  },
  {
   "cell_type": "code",
   "execution_count": 9,
   "metadata": {},
   "outputs": [
    {
     "name": "stdout",
     "output_type": "stream",
     "text": [
      "Time passed: \n",
      "Total: 357.23 s. \n",
      "Per file: 1.11 s.\n",
      "Files in initial directory C:/Users/Hannes/Pictures/2023/2023-09 Hochtour Hochstubai: 323 (1097.63 MB)\n",
      "Files created in C:/Users/Hannes/Pictures/2023/2023-09 Hochtour Hochstubai/Output files: 323 (2061.34 MB)\n"
     ]
    }
   ],
   "source": [
    "print(f\"Time passed: \\nTotal: {round(running_time, 2)} s. \\nPer file: {(round(running_time/len(os.listdir(output_dir)), 2))} s.\")\n",
    "print(f\"Files in initial directory {input_dir}: {heic_count} ({round(heic_size / (1024 ** 2), 2)} MB)\")\n",
    "print(f\"Files created in {output_dir}: {jpeg_count} ({round(jpeg_size / (1024 ** 2), 2)} MB)\")\n"
   ]
  }
 ],
 "metadata": {
  "kernelspec": {
   "display_name": "Python 3",
   "language": "python",
   "name": "python3"
  },
  "language_info": {
   "codemirror_mode": {
    "name": "ipython",
    "version": 3
   },
   "file_extension": ".py",
   "mimetype": "text/x-python",
   "name": "python",
   "nbconvert_exporter": "python",
   "pygments_lexer": "ipython3",
   "version": "3.11.2"
  },
  "orig_nbformat": 4
 },
 "nbformat": 4,
 "nbformat_minor": 2
}
